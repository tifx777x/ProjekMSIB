{
 "cells": [
  {
   "cell_type": "code",
   "execution_count": 24,
   "id": "cf985625-670b-4249-9cfd-d709bf2378d4",
   "metadata": {},
   "outputs": [
    {
     "name": "stderr",
     "output_type": "stream",
     "text": [
      "WARNING:absl:Compiled the loaded model, but the compiled metrics have yet to be built. `model.compile_metrics` will be empty until you train or evaluate the model.\n"
     ]
    },
    {
     "name": "stdout",
     "output_type": "stream",
     "text": [
      "\u001b[1m1/1\u001b[0m \u001b[32m━━━━━━━━━━━━━━━━━━━━\u001b[0m\u001b[37m\u001b[0m \u001b[1m0s\u001b[0m 58ms/step\n",
      "Detected Emotion: Happy\n",
      "Recommended Movies:\n",
      "                       title  genres\n",
      "44                 Furious 7  Action\n",
      "155   Fun with Dick and Jane  Comedy\n",
      "162                  Stealth  Action\n",
      "251       Gulliver's Travels  Comedy\n",
      "321             The Campaign  Comedy\n",
      "...                      ...     ...\n",
      "4698       Hollywood Shuffle  Comedy\n",
      "4716                  The FP  Comedy\n",
      "4734            A True Story  Comedy\n",
      "4746                  Clerks  Comedy\n",
      "4752                 Slacker  Comedy\n",
      "\n",
      "[303 rows x 2 columns]\n"
     ]
    }
   ],
   "source": [
    "import cv2\n",
    "import numpy as np\n",
    "import pandas as pd\n",
    "from tensorflow.keras.models import load_model\n",
    "\n",
    "# Muat model deteksi ekspresi wajah\n",
    "model = load_model('emotion_model.h5')  # Pastikan Anda memiliki model deteksi ekspresi wajah\n",
    "\n",
    "# Muat dataset movies.csv untuk rekomendasi\n",
    "movies_df = pd.read_csv('emotion_service/dataset/processed_movies.csv')\n",
    "\n",
    "# Daftar ekspresi yang dapat dikenali\n",
    "emotion_labels = ['Angry', 'Disguist', 'Fear', 'Happy', 'Sad', 'Surprise', 'Neutral']\n",
    "\n",
    "# Muat model deteksi wajah\n",
    "face_cascade = cv2.CascadeClassifier(cv2.data.haarcascades + 'haarcascade_frontalface_default.xml')\n",
    "\n",
    "# Fungsi untuk merekomendasikan film berdasarkan ekspresi\n",
    "def recommend_movies(emotion):\n",
    "    recommendations = {\n",
    "        'Happy': ['Comedy', 'Romantic', 'Action'],\n",
    "        'Sad': ['Comedy','Drama', 'Romantic'],\n",
    "        'Angry': ['Action', 'Thriller','Comedy'],\n",
    "        'Fear': ['Horror', 'Mystery'],\n",
    "        'Surprise': ['Fantasy', 'Action','Thriller'],\n",
    "        'Neutral': ['Adventure', 'Animation'],\n",
    "        'Disguist': ['Horror', 'Thriller']\n",
    "    }\n",
    "\n",
    "    genres = recommendations.get(emotion, ['General'])\n",
    "    recommended_movies = movies_df[movies_df['genres'].isin(genres)]\n",
    "    return recommended_movies[['title', 'genres']]\n",
    "\n",
    "# Fungsi untuk mendeteksi wajah dan ekspresi\n",
    "def detect_emotion_from_face():\n",
    "    cap = cv2.VideoCapture(0)\n",
    "    while True:\n",
    "        ret, frame = cap.read()\n",
    "        if not ret:\n",
    "            break\n",
    "\n",
    "        gray = cv2.cvtColor(frame, cv2.COLOR_BGR2GRAY)\n",
    "        faces = face_cascade.detectMultiScale(gray, 1.1, 4)\n",
    "\n",
    "        for (x, y, w, h) in faces:\n",
    "            face = frame[y:y + h, x:x + w]\n",
    "            # Mengubah wajah menjadi RGB dengan tiga saluran warna\n",
    "            face = cv2.cvtColor(face, cv2.COLOR_BGR2RGB)\n",
    "            \n",
    "            # Pastikan dimensi gambar sesuai dengan yang diinginkan model (misalnya 48x48x3)\n",
    "            face = cv2.resize(face, (48, 48))\n",
    "            \n",
    "            # Normalisasi gambar ke rentang [0, 1]\n",
    "            face = face / 255.0\n",
    "            \n",
    "            # Menambahkan dimensi untuk batch dan channel terakhir (48, 48, 3)\n",
    "            face = np.expand_dims(face, axis=0)\n",
    "            \n",
    "            # Prediksi ekspresi wajah\n",
    "            emotion_prob = model.predict(face)\n",
    "            max_index = np.argmax(emotion_prob[0])\n",
    "            emotion = emotion_labels[max_index]\n",
    "\n",
    "\n",
    "            # Menampilkan ekspresi wajah dan rekomendasi film\n",
    "            recommended_movies = recommend_movies(emotion)\n",
    "            print(f\"Detected Emotion: {emotion}\")\n",
    "            print(\"Recommended Movies:\")\n",
    "            print(recommended_movies)\n",
    "    \n",
    "        cap.release()\n",
    "\n",
    "# Menjalankan fungsi deteksi ekspresi wajah\n",
    "if __name__ == \"__main__\":\n",
    "    detect_emotion_from_face()"
   ]
  },
  {
   "cell_type": "code",
   "execution_count": 1,
   "id": "480bf874-1ba6-4e67-9661-12f47eaacfb0",
   "metadata": {},
   "outputs": [
    {
     "name": "stderr",
     "output_type": "stream",
     "text": [
      "WARNING:absl:Compiled the loaded model, but the compiled metrics have yet to be built. `model.compile_metrics` will be empty until you train or evaluate the model.\n"
     ]
    },
    {
     "name": "stdout",
     "output_type": "stream",
     "text": [
      " * Serving Flask app '__main__'\n",
      " * Debug mode: on\n"
     ]
    },
    {
     "name": "stderr",
     "output_type": "stream",
     "text": [
      "INFO:werkzeug:\u001b[31m\u001b[1mWARNING: This is a development server. Do not use it in a production deployment. Use a production WSGI server instead.\u001b[0m\n",
      " * Running on http://127.0.0.1:5000\n",
      "INFO:werkzeug:\u001b[33mPress CTRL+C to quit\u001b[0m\n",
      "INFO:werkzeug:127.0.0.1 - - [02/Dec/2024 17:24:43] \"\u001b[33mGET / HTTP/1.1\u001b[0m\" 404 -\n"
     ]
    },
    {
     "name": "stdout",
     "output_type": "stream",
     "text": [
      "\u001b[1m1/1\u001b[0m \u001b[32m━━━━━━━━━━━━━━━━━━━━\u001b[0m\u001b[37m\u001b[0m \u001b[1m0s\u001b[0m 80ms/step\n"
     ]
    },
    {
     "name": "stderr",
     "output_type": "stream",
     "text": [
      "INFO:werkzeug:127.0.0.1 - - [02/Dec/2024 17:25:05] \"POST /detect_emotion HTTP/1.1\" 200 -\n"
     ]
    },
    {
     "name": "stdout",
     "output_type": "stream",
     "text": [
      "\u001b[1m1/1\u001b[0m \u001b[32m━━━━━━━━━━━━━━━━━━━━\u001b[0m\u001b[37m\u001b[0m \u001b[1m0s\u001b[0m 17ms/step\n"
     ]
    },
    {
     "name": "stderr",
     "output_type": "stream",
     "text": [
      "INFO:werkzeug:127.0.0.1 - - [02/Dec/2024 17:25:14] \"POST /detect_emotion HTTP/1.1\" 200 -\n"
     ]
    },
    {
     "name": "stdout",
     "output_type": "stream",
     "text": [
      "\u001b[1m1/1\u001b[0m \u001b[32m━━━━━━━━━━━━━━━━━━━━\u001b[0m\u001b[37m\u001b[0m \u001b[1m0s\u001b[0m 17ms/step\n"
     ]
    },
    {
     "name": "stderr",
     "output_type": "stream",
     "text": [
      "INFO:werkzeug:127.0.0.1 - - [02/Dec/2024 17:25:17] \"POST /detect_emotion HTTP/1.1\" 200 -\n"
     ]
    },
    {
     "name": "stdout",
     "output_type": "stream",
     "text": [
      "\u001b[1m1/1\u001b[0m \u001b[32m━━━━━━━━━━━━━━━━━━━━\u001b[0m\u001b[37m\u001b[0m \u001b[1m0s\u001b[0m 18ms/step\n"
     ]
    },
    {
     "name": "stderr",
     "output_type": "stream",
     "text": [
      "INFO:werkzeug:127.0.0.1 - - [02/Dec/2024 17:25:34] \"POST /detect_emotion HTTP/1.1\" 200 -\n"
     ]
    },
    {
     "name": "stdout",
     "output_type": "stream",
     "text": [
      "\u001b[1m1/1\u001b[0m \u001b[32m━━━━━━━━━━━━━━━━━━━━\u001b[0m\u001b[37m\u001b[0m \u001b[1m0s\u001b[0m 20ms/step\n"
     ]
    },
    {
     "name": "stderr",
     "output_type": "stream",
     "text": [
      "INFO:werkzeug:127.0.0.1 - - [02/Dec/2024 17:25:37] \"POST /detect_emotion HTTP/1.1\" 200 -\n"
     ]
    },
    {
     "name": "stdout",
     "output_type": "stream",
     "text": [
      "\u001b[1m1/1\u001b[0m \u001b[32m━━━━━━━━━━━━━━━━━━━━\u001b[0m\u001b[37m\u001b[0m \u001b[1m0s\u001b[0m 19ms/step\n"
     ]
    },
    {
     "name": "stderr",
     "output_type": "stream",
     "text": [
      "INFO:werkzeug:127.0.0.1 - - [02/Dec/2024 17:31:17] \"POST /detect_emotion HTTP/1.1\" 200 -\n"
     ]
    },
    {
     "name": "stdout",
     "output_type": "stream",
     "text": [
      "\u001b[1m1/1\u001b[0m \u001b[32m━━━━━━━━━━━━━━━━━━━━\u001b[0m\u001b[37m\u001b[0m \u001b[1m0s\u001b[0m 17ms/step\n"
     ]
    },
    {
     "name": "stderr",
     "output_type": "stream",
     "text": [
      "INFO:werkzeug:127.0.0.1 - - [02/Dec/2024 17:31:22] \"POST /detect_emotion HTTP/1.1\" 200 -\n"
     ]
    },
    {
     "name": "stdout",
     "output_type": "stream",
     "text": [
      "\u001b[1m1/1\u001b[0m \u001b[32m━━━━━━━━━━━━━━━━━━━━\u001b[0m\u001b[37m\u001b[0m \u001b[1m0s\u001b[0m 17ms/step\n"
     ]
    },
    {
     "name": "stderr",
     "output_type": "stream",
     "text": [
      "INFO:werkzeug:127.0.0.1 - - [02/Dec/2024 17:31:25] \"POST /detect_emotion HTTP/1.1\" 200 -\n"
     ]
    },
    {
     "name": "stdout",
     "output_type": "stream",
     "text": [
      "\u001b[1m1/1\u001b[0m \u001b[32m━━━━━━━━━━━━━━━━━━━━\u001b[0m\u001b[37m\u001b[0m \u001b[1m0s\u001b[0m 17ms/step\n"
     ]
    },
    {
     "name": "stderr",
     "output_type": "stream",
     "text": [
      "INFO:werkzeug:127.0.0.1 - - [02/Dec/2024 17:31:29] \"POST /detect_emotion HTTP/1.1\" 200 -\n"
     ]
    },
    {
     "name": "stdout",
     "output_type": "stream",
     "text": [
      "\u001b[1m1/1\u001b[0m \u001b[32m━━━━━━━━━━━━━━━━━━━━\u001b[0m\u001b[37m\u001b[0m \u001b[1m0s\u001b[0m 18ms/step\n"
     ]
    },
    {
     "name": "stderr",
     "output_type": "stream",
     "text": [
      "INFO:werkzeug:127.0.0.1 - - [02/Dec/2024 17:31:32] \"POST /detect_emotion HTTP/1.1\" 200 -\n"
     ]
    },
    {
     "name": "stdout",
     "output_type": "stream",
     "text": [
      "\u001b[1m1/1\u001b[0m \u001b[32m━━━━━━━━━━━━━━━━━━━━\u001b[0m\u001b[37m\u001b[0m \u001b[1m0s\u001b[0m 17ms/step\n"
     ]
    },
    {
     "name": "stderr",
     "output_type": "stream",
     "text": [
      "INFO:werkzeug:127.0.0.1 - - [02/Dec/2024 17:31:36] \"POST /detect_emotion HTTP/1.1\" 200 -\n"
     ]
    },
    {
     "name": "stdout",
     "output_type": "stream",
     "text": [
      "\u001b[1m1/1\u001b[0m \u001b[32m━━━━━━━━━━━━━━━━━━━━\u001b[0m\u001b[37m\u001b[0m \u001b[1m0s\u001b[0m 17ms/step\n"
     ]
    },
    {
     "name": "stderr",
     "output_type": "stream",
     "text": [
      "INFO:werkzeug:127.0.0.1 - - [02/Dec/2024 17:31:41] \"POST /detect_emotion HTTP/1.1\" 200 -\n"
     ]
    },
    {
     "name": "stdout",
     "output_type": "stream",
     "text": [
      "\u001b[1m1/1\u001b[0m \u001b[32m━━━━━━━━━━━━━━━━━━━━\u001b[0m\u001b[37m\u001b[0m \u001b[1m0s\u001b[0m 18ms/step\n"
     ]
    },
    {
     "name": "stderr",
     "output_type": "stream",
     "text": [
      "INFO:werkzeug:127.0.0.1 - - [02/Dec/2024 17:49:03] \"POST /detect_emotion HTTP/1.1\" 200 -\n"
     ]
    },
    {
     "name": "stdout",
     "output_type": "stream",
     "text": [
      "\u001b[1m1/1\u001b[0m \u001b[32m━━━━━━━━━━━━━━━━━━━━\u001b[0m\u001b[37m\u001b[0m \u001b[1m0s\u001b[0m 27ms/step\n"
     ]
    },
    {
     "name": "stderr",
     "output_type": "stream",
     "text": [
      "INFO:werkzeug:127.0.0.1 - - [02/Dec/2024 18:38:10] \"POST /detect_emotion HTTP/1.1\" 200 -\n"
     ]
    },
    {
     "name": "stdout",
     "output_type": "stream",
     "text": [
      "\u001b[1m1/1\u001b[0m \u001b[32m━━━━━━━━━━━━━━━━━━━━\u001b[0m\u001b[37m\u001b[0m \u001b[1m0s\u001b[0m 20ms/step\n"
     ]
    },
    {
     "name": "stderr",
     "output_type": "stream",
     "text": [
      "INFO:werkzeug:127.0.0.1 - - [02/Dec/2024 19:29:27] \"POST /detect_emotion HTTP/1.1\" 200 -\n"
     ]
    },
    {
     "name": "stdout",
     "output_type": "stream",
     "text": [
      "\u001b[1m1/1\u001b[0m \u001b[32m━━━━━━━━━━━━━━━━━━━━\u001b[0m\u001b[37m\u001b[0m \u001b[1m0s\u001b[0m 20ms/step\n"
     ]
    },
    {
     "name": "stderr",
     "output_type": "stream",
     "text": [
      "INFO:werkzeug:127.0.0.1 - - [02/Dec/2024 19:29:31] \"POST /detect_emotion HTTP/1.1\" 200 -\n"
     ]
    },
    {
     "name": "stdout",
     "output_type": "stream",
     "text": [
      "\u001b[1m1/1\u001b[0m \u001b[32m━━━━━━━━━━━━━━━━━━━━\u001b[0m\u001b[37m\u001b[0m \u001b[1m0s\u001b[0m 20ms/step\n"
     ]
    },
    {
     "name": "stderr",
     "output_type": "stream",
     "text": [
      "INFO:werkzeug:127.0.0.1 - - [02/Dec/2024 19:59:21] \"POST /detect_emotion HTTP/1.1\" 200 -\n"
     ]
    }
   ],
   "source": [
    "import cv2\n",
    "import numpy as np\n",
    "import pandas as pd\n",
    "from tensorflow.keras.models import load_model\n",
    "from flask import Flask, jsonify\n",
    "import threading\n",
    "\n",
    "# Muat model deteksi ekspresi wajah\n",
    "model = load_model('emotion_model.h5')  # Pastikan Anda memiliki model deteksi ekspresi wajah\n",
    "\n",
    "# Muat dataset movies.csv untuk rekomendasi\n",
    "movies_df = pd.read_csv('emotion_service/dataset/processed_movies.csv')\n",
    "\n",
    "# Daftar ekspresi yang dapat dikenali\n",
    "emotion_labels = ['Angry', 'Disguist', 'Fear', 'Happy', 'Sad', 'Surprise', 'Neutral']\n",
    "\n",
    "# Muat model deteksi wajah\n",
    "face_cascade = cv2.CascadeClassifier(cv2.data.haarcascades + 'haarcascade_frontalface_default.xml')\n",
    "\n",
    "# Fungsi untuk merekomendasikan film berdasarkan ekspresi\n",
    "def recommend_movies(emotion):\n",
    "    recommendations = {\n",
    "        'Happy': ['Comedy', 'Romantic', 'Action'],\n",
    "        'Sad': ['Comedy', 'Drama', 'Romantic'],\n",
    "        'Angry': ['Action', 'Thriller', 'Comedy'],\n",
    "        'Fear': ['Horror', 'Mystery'],\n",
    "        'Surprise': ['Fantasy', 'Action', 'Thriller'],\n",
    "        'Neutral': ['Adventure', 'Animation'],\n",
    "        'Disguist': ['Horror', 'Thriller']\n",
    "    }\n",
    "\n",
    "    genres = recommendations.get(emotion, ['General'])\n",
    "    recommended_movies = movies_df[movies_df['genres'].isin(genres)]\n",
    "    return recommended_movies[['title', 'genres']].to_dict(orient='records')\n",
    "\n",
    "# Flask Setup\n",
    "app = Flask(__name__)\n",
    "\n",
    "@app.route('/detect_emotion', methods=['POST'])\n",
    "def detect_emotion_from_face():\n",
    "    # Capture image from webcam (or send image through API)\n",
    "    cap = cv2.VideoCapture(0)\n",
    "    ret, frame = cap.read()\n",
    "    cap.release()\n",
    "    if not ret:\n",
    "        return jsonify({\"error\": \"Failed to capture image\"}), 400\n",
    "\n",
    "    gray = cv2.cvtColor(frame, cv2.COLOR_BGR2GRAY)\n",
    "    faces = face_cascade.detectMultiScale(gray, 1.1, 4)\n",
    "\n",
    "    if len(faces) == 0:\n",
    "        return jsonify({\"error\": \"No face detected\"}), 400\n",
    "\n",
    "    # Ambil wajah pertama yang terdeteksi\n",
    "    (x, y, w, h) = faces[0]\n",
    "    face = frame[y:y + h, x:x + w]\n",
    "    face = cv2.cvtColor(face, cv2.COLOR_BGR2RGB)\n",
    "    face = cv2.resize(face, (48, 48))  # Mengubah ukuran sesuai model\n",
    "    face = face / 255.0\n",
    "    face = np.expand_dims(face, axis=0)\n",
    "\n",
    "    # Prediksi ekspresi wajah\n",
    "    emotion_prob = model.predict(face)\n",
    "    max_index = np.argmax(emotion_prob[0])\n",
    "    emotion = emotion_labels[max_index]\n",
    "\n",
    "    # Mengambil rekomendasi film\n",
    "    recommended_movies = recommend_movies(emotion)\n",
    "\n",
    "    return jsonify({\n",
    "        'emotion': emotion,\n",
    "        'recommended_movies': recommended_movies\n",
    "    })\n",
    "\n",
    "# Fungsi untuk menjalankan Flask server di background\n",
    "def run_flask():\n",
    "    app.run(debug=True, use_reloader=False)\n",
    "\n",
    "# Menjalankan Flask API di thread terpisah\n",
    "flask_thread = threading.Thread(target=run_flask)\n",
    "flask_thread.start()"
   ]
  },
  {
   "cell_type": "code",
   "execution_count": null,
   "id": "5db2eaf2-8b4d-46d3-9d08-b90ef5e24d82",
   "metadata": {},
   "outputs": [],
   "source": []
  }
 ],
 "metadata": {
  "kernelspec": {
   "display_name": "Python 3 (ipykernel)",
   "language": "python",
   "name": "python3"
  },
  "language_info": {
   "codemirror_mode": {
    "name": "ipython",
    "version": 3
   },
   "file_extension": ".py",
   "mimetype": "text/x-python",
   "name": "python",
   "nbconvert_exporter": "python",
   "pygments_lexer": "ipython3",
   "version": "3.12.4"
  }
 },
 "nbformat": 4,
 "nbformat_minor": 5
}
